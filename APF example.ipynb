{
 "cells": [
  {
   "cell_type": "code",
   "execution_count": null,
   "id": "524cbdbf",
   "metadata": {},
   "outputs": [],
   "source": [
    "%matplotlib ipympl\n",
    "import numpy as np\n",
    "import matplotlib.pyplot as plt\n",
    "import matplotlib.animation as animation"
   ]
  },
  {
   "cell_type": "markdown",
   "id": "e203bf62",
   "metadata": {},
   "source": [
    "### Define APF functions "
   ]
  },
  {
   "cell_type": "code",
   "execution_count": null,
   "id": "7fe0f6d0",
   "metadata": {},
   "outputs": [],
   "source": [
    "def attractive_force(q, goal, k_att=1.0):\n",
    "    #Computes the attractive force towards the goal\n",
    "    \n",
    "    return ... #define the attractive force\n",
    "\n",
    "def repulsive_force(q, obstacles, d_0=5.0, k_rep=5.0):\n",
    "    #Computes the repulsive force from obstacles\n",
    "    total_rep_force = np.array([0.0, 0.0])  # Ensure float type\n",
    "    for obs in obstacles:\n",
    "        d = np.linalg.norm(q - obs)\n",
    "        if d < d_0 and d > 0:  # Avoid division by zero\n",
    "            rep_force =   #define the repulsive force\n",
    "            total_rep_force += rep_force\n",
    "    return total_rep_force"
   ]
  },
  {
   "cell_type": "code",
   "execution_count": null,
   "id": "de2675f1",
   "metadata": {},
   "outputs": [],
   "source": [
    "\n",
    "goal = np.array([18.0, 8.0])  # Goal position\n",
    "obstacles = [np.array([15.0, 7.0]), np.array([3.0, 7.0])]  # Static obstacles\n",
    "robot_pos = np.array([0.0, 0.0])  # Start position\n",
    "\n",
    "# Storage for visualization\n",
    "path = [robot_pos.copy()]\n",
    "force_vectors = []\n",
    "\n",
    "# Simulate APF Motion\n",
    "for _ in range(100):\n",
    "    force = attractive_force(robot_pos, goal) + repulsive_force(robot_pos, obstacles)\n",
    "    \n",
    "    if np.linalg.norm(force) > 0:  # Avoid division by zero\n",
    "        step = 0.2 * force / np.linalg.norm(force)  # Move in force direction\n",
    "        robot_pos += step\n",
    "    \n",
    "    path.append(robot_pos.copy())\n",
    "    force_vectors.append(step.copy())  # Store force direction\n",
    "    \n",
    "    if np.linalg.norm(robot_pos - goal) < 0.2:  # Stop if close to goal\n",
    "        break\n",
    "\n",
    "# Convert lists to numpy arrays\n",
    "path = np.array(path)\n",
    "force_vectors = np.array(force_vectors)\n",
    "\n",
    "# Visualization setup \n",
    "fig, ax = plt.subplots(figsize=(8, 8))\n",
    "ax.set_xlim(0, 30)\n",
    "ax.set_ylim(0, 30)\n",
    "ax.set_xlabel(\"X Position\")\n",
    "ax.set_ylabel(\"Y Position\")\n",
    "ax.set_title(\"APF\")\n",
    "ax.grid()\n",
    "\n",
    "# Plot goal and obstacles\n",
    "ax.scatter(*goal, color='g', label=\"Goal\", s=150)\n",
    "for obs in obstacles:\n",
    "    ax.scatter(*obs, color='r', label=\"Obstacle\", s=200)\n",
    "\n",
    "# Initialize robot plot elements\n",
    "robot_dot, = ax.plot([], [], 'bo', markersize=8, label=\"Robot\")\n",
    "path_line, = ax.plot([], [], 'b-', lw=2, alpha=0.6)\n",
    "quiver = ax.quiver([], [], [], [], angles='xy', scale_units='xy', scale=1, color='b')\n",
    "\n",
    "# Animation function  \n",
    "def update(frame):\n",
    "    if frame < len(path):\n",
    "        robot_dot.set_data(path[frame, 0], path[frame, 1])  # Move robot dot\n",
    "        path_line.set_data(path[:frame+1, 0], path[:frame+1, 1])  # Draw path\n",
    "        \n",
    "        # Update force visualization\n",
    "        if frame > 0:\n",
    "            quiver.set_offsets(path[frame-1])  \n",
    "            quiver.set_UVC(force_vectors[frame-1, 0], force_vectors[frame-1, 1])\n",
    "    \n",
    "    return robot_dot, path_line, quiver\n",
    "\n",
    "# Create animation\n",
    "ani = animation.FuncAnimation(fig, update, frames=len(path), interval=200, blit=True)\n",
    "\n",
    "plt.legend()\n",
    "plt.show()"
   ]
  },
  {
   "cell_type": "code",
   "execution_count": null,
   "id": "770715f9",
   "metadata": {},
   "outputs": [],
   "source": []
  },
  {
   "cell_type": "code",
   "execution_count": null,
   "id": "61da4dc0",
   "metadata": {},
   "outputs": [],
   "source": []
  }
 ],
 "metadata": {
  "kernelspec": {
   "display_name": "Python 3 (ipykernel)",
   "language": "python",
   "name": "python3"
  },
  "language_info": {
   "codemirror_mode": {
    "name": "ipython",
    "version": 3
   },
   "file_extension": ".py",
   "mimetype": "text/x-python",
   "name": "python",
   "nbconvert_exporter": "python",
   "pygments_lexer": "ipython3",
   "version": "3.8.8"
  }
 },
 "nbformat": 4,
 "nbformat_minor": 5
}
